{
 "cells": [
  {
   "cell_type": "code",
   "execution_count": 1,
   "id": "ce9bfc30-be46-478f-97fc-878837c4024d",
   "metadata": {},
   "outputs": [],
   "source": [
    "import pandas as pd\n",
    "import seaborn as sns\n",
    "import numpy as np\n",
    "import matplotlib.pyplot as plt\n",
    "from sklearn.preprocessing import LabelEncoder\n",
    "from sklearn.model_selection import train_test_split\n",
    "from sklearn.tree import DecisionTreeRegressor\n",
    "from sklearn.metrics import mean_absolute_error, mean_squared_error, r2_score"
   ]
  },
  {
   "cell_type": "code",
   "execution_count": 2,
   "id": "328bae87-d43c-4f6d-a940-76a6812d8b0b",
   "metadata": {},
   "outputs": [],
   "source": [
    "df = pd.read_csv(\"laptopData.csv\")"
   ]
  },
  {
   "cell_type": "code",
   "execution_count": 3,
   "id": "ed6b19df-a9f9-47bb-a73c-2ede73149d3c",
   "metadata": {},
   "outputs": [
    {
     "data": {
      "text/html": [
       "<div>\n",
       "<style scoped>\n",
       "    .dataframe tbody tr th:only-of-type {\n",
       "        vertical-align: middle;\n",
       "    }\n",
       "\n",
       "    .dataframe tbody tr th {\n",
       "        vertical-align: top;\n",
       "    }\n",
       "\n",
       "    .dataframe thead th {\n",
       "        text-align: right;\n",
       "    }\n",
       "</style>\n",
       "<table border=\"1\" class=\"dataframe\">\n",
       "  <thead>\n",
       "    <tr style=\"text-align: right;\">\n",
       "      <th></th>\n",
       "      <th>Unnamed: 0</th>\n",
       "      <th>Price</th>\n",
       "    </tr>\n",
       "  </thead>\n",
       "  <tbody>\n",
       "    <tr>\n",
       "      <th>count</th>\n",
       "      <td>1273.000000</td>\n",
       "      <td>1273.000000</td>\n",
       "    </tr>\n",
       "    <tr>\n",
       "      <th>mean</th>\n",
       "      <td>652.674784</td>\n",
       "      <td>59955.814073</td>\n",
       "    </tr>\n",
       "    <tr>\n",
       "      <th>std</th>\n",
       "      <td>376.493027</td>\n",
       "      <td>37332.251005</td>\n",
       "    </tr>\n",
       "    <tr>\n",
       "      <th>min</th>\n",
       "      <td>0.000000</td>\n",
       "      <td>9270.720000</td>\n",
       "    </tr>\n",
       "    <tr>\n",
       "      <th>25%</th>\n",
       "      <td>327.000000</td>\n",
       "      <td>31914.720000</td>\n",
       "    </tr>\n",
       "    <tr>\n",
       "      <th>50%</th>\n",
       "      <td>652.000000</td>\n",
       "      <td>52161.120000</td>\n",
       "    </tr>\n",
       "    <tr>\n",
       "      <th>75%</th>\n",
       "      <td>980.000000</td>\n",
       "      <td>79333.387200</td>\n",
       "    </tr>\n",
       "    <tr>\n",
       "      <th>max</th>\n",
       "      <td>1302.000000</td>\n",
       "      <td>324954.720000</td>\n",
       "    </tr>\n",
       "  </tbody>\n",
       "</table>\n",
       "</div>"
      ],
      "text/plain": [
       "        Unnamed: 0          Price\n",
       "count  1273.000000    1273.000000\n",
       "mean    652.674784   59955.814073\n",
       "std     376.493027   37332.251005\n",
       "min       0.000000    9270.720000\n",
       "25%     327.000000   31914.720000\n",
       "50%     652.000000   52161.120000\n",
       "75%     980.000000   79333.387200\n",
       "max    1302.000000  324954.720000"
      ]
     },
     "execution_count": 3,
     "metadata": {},
     "output_type": "execute_result"
    }
   ],
   "source": [
    "df_Stats_Numeric = df.describe ( )\n",
    "df_Stats_Numeric"
   ]
  },
  {
   "cell_type": "code",
   "execution_count": 4,
   "id": "ecead83f-1832-4c99-b69e-a81d6879a808",
   "metadata": {},
   "outputs": [
    {
     "data": {
      "text/html": [
       "<div>\n",
       "<style scoped>\n",
       "    .dataframe tbody tr th:only-of-type {\n",
       "        vertical-align: middle;\n",
       "    }\n",
       "\n",
       "    .dataframe tbody tr th {\n",
       "        vertical-align: top;\n",
       "    }\n",
       "\n",
       "    .dataframe thead th {\n",
       "        text-align: right;\n",
       "    }\n",
       "</style>\n",
       "<table border=\"1\" class=\"dataframe\">\n",
       "  <thead>\n",
       "    <tr style=\"text-align: right;\">\n",
       "      <th></th>\n",
       "      <th>Company</th>\n",
       "      <th>TypeName</th>\n",
       "      <th>Inches</th>\n",
       "      <th>ScreenResolution</th>\n",
       "      <th>Cpu</th>\n",
       "      <th>Ram</th>\n",
       "      <th>Memory</th>\n",
       "      <th>Gpu</th>\n",
       "      <th>OpSys</th>\n",
       "      <th>Weight</th>\n",
       "    </tr>\n",
       "  </thead>\n",
       "  <tbody>\n",
       "    <tr>\n",
       "      <th>count</th>\n",
       "      <td>1273</td>\n",
       "      <td>1273</td>\n",
       "      <td>1273</td>\n",
       "      <td>1273</td>\n",
       "      <td>1273</td>\n",
       "      <td>1273</td>\n",
       "      <td>1273</td>\n",
       "      <td>1273</td>\n",
       "      <td>1273</td>\n",
       "      <td>1273</td>\n",
       "    </tr>\n",
       "    <tr>\n",
       "      <th>unique</th>\n",
       "      <td>19</td>\n",
       "      <td>6</td>\n",
       "      <td>25</td>\n",
       "      <td>40</td>\n",
       "      <td>118</td>\n",
       "      <td>10</td>\n",
       "      <td>40</td>\n",
       "      <td>110</td>\n",
       "      <td>9</td>\n",
       "      <td>189</td>\n",
       "    </tr>\n",
       "    <tr>\n",
       "      <th>top</th>\n",
       "      <td>Lenovo</td>\n",
       "      <td>Notebook</td>\n",
       "      <td>15.6</td>\n",
       "      <td>Full HD 1920x1080</td>\n",
       "      <td>Intel Core i5 7200U 2.5GHz</td>\n",
       "      <td>8GB</td>\n",
       "      <td>256GB SSD</td>\n",
       "      <td>Intel HD Graphics 620</td>\n",
       "      <td>Windows 10</td>\n",
       "      <td>2.2kg</td>\n",
       "    </tr>\n",
       "    <tr>\n",
       "      <th>freq</th>\n",
       "      <td>290</td>\n",
       "      <td>710</td>\n",
       "      <td>640</td>\n",
       "      <td>495</td>\n",
       "      <td>183</td>\n",
       "      <td>601</td>\n",
       "      <td>401</td>\n",
       "      <td>271</td>\n",
       "      <td>1047</td>\n",
       "      <td>111</td>\n",
       "    </tr>\n",
       "  </tbody>\n",
       "</table>\n",
       "</div>"
      ],
      "text/plain": [
       "       Company  TypeName Inches   ScreenResolution  \\\n",
       "count     1273      1273   1273               1273   \n",
       "unique      19         6     25                 40   \n",
       "top     Lenovo  Notebook   15.6  Full HD 1920x1080   \n",
       "freq       290       710    640                495   \n",
       "\n",
       "                               Cpu   Ram     Memory                    Gpu  \\\n",
       "count                         1273  1273       1273                   1273   \n",
       "unique                         118    10         40                    110   \n",
       "top     Intel Core i5 7200U 2.5GHz   8GB  256GB SSD  Intel HD Graphics 620   \n",
       "freq                           183   601        401                    271   \n",
       "\n",
       "             OpSys Weight  \n",
       "count         1273   1273  \n",
       "unique           9    189  \n",
       "top     Windows 10  2.2kg  \n",
       "freq          1047    111  "
      ]
     },
     "execution_count": 4,
     "metadata": {},
     "output_type": "execute_result"
    }
   ],
   "source": [
    "df_Stats_Non_Numeric = df.describe ( exclude = np.number )\n",
    "df_Stats_Non_Numeric"
   ]
  },
  {
   "cell_type": "code",
   "execution_count": 5,
   "id": "8c19969d-4854-4112-a71b-83db0870fdd6",
   "metadata": {},
   "outputs": [
    {
     "data": {
      "text/plain": [
       "(1303, 12)"
      ]
     },
     "execution_count": 5,
     "metadata": {},
     "output_type": "execute_result"
    }
   ],
   "source": [
    "df.shape"
   ]
  },
  {
   "cell_type": "code",
   "execution_count": 6,
   "id": "6b047a9a-8ad7-4970-972e-1478a665dfca",
   "metadata": {},
   "outputs": [
    {
     "name": "stdout",
     "output_type": "stream",
     "text": [
      "<class 'pandas.core.frame.DataFrame'>\n",
      "RangeIndex: 1303 entries, 0 to 1302\n",
      "Data columns (total 12 columns):\n",
      " #   Column            Non-Null Count  Dtype  \n",
      "---  ------            --------------  -----  \n",
      " 0   Unnamed: 0        1273 non-null   float64\n",
      " 1   Company           1273 non-null   object \n",
      " 2   TypeName          1273 non-null   object \n",
      " 3   Inches            1273 non-null   object \n",
      " 4   ScreenResolution  1273 non-null   object \n",
      " 5   Cpu               1273 non-null   object \n",
      " 6   Ram               1273 non-null   object \n",
      " 7   Memory            1273 non-null   object \n",
      " 8   Gpu               1273 non-null   object \n",
      " 9   OpSys             1273 non-null   object \n",
      " 10  Weight            1273 non-null   object \n",
      " 11  Price             1273 non-null   float64\n",
      "dtypes: float64(2), object(10)\n",
      "memory usage: 122.3+ KB\n"
     ]
    }
   ],
   "source": [
    "df.info() "
   ]
  },
  {
   "cell_type": "code",
   "execution_count": 7,
   "id": "64f7ed1f-6015-456b-98e6-4ae4edbdbb2a",
   "metadata": {},
   "outputs": [
    {
     "data": {
      "text/plain": [
       "np.int64(29)"
      ]
     },
     "execution_count": 7,
     "metadata": {},
     "output_type": "execute_result"
    }
   ],
   "source": [
    "df.duplicated().sum()  "
   ]
  },
  {
   "cell_type": "code",
   "execution_count": 8,
   "id": "827607f8-13bc-4706-8dc6-d7a0838f92be",
   "metadata": {},
   "outputs": [],
   "source": [
    "df = df.drop_duplicates()"
   ]
  },
  {
   "cell_type": "code",
   "execution_count": 9,
   "id": "ee4aef8b-ac42-46dc-a051-e3a65cf2e829",
   "metadata": {},
   "outputs": [
    {
     "data": {
      "text/plain": [
       "Unnamed: 0          1\n",
       "Company             1\n",
       "TypeName            1\n",
       "Inches              1\n",
       "ScreenResolution    1\n",
       "Cpu                 1\n",
       "Ram                 1\n",
       "Memory              1\n",
       "Gpu                 1\n",
       "OpSys               1\n",
       "Weight              1\n",
       "Price               1\n",
       "dtype: int64"
      ]
     },
     "execution_count": 9,
     "metadata": {},
     "output_type": "execute_result"
    }
   ],
   "source": [
    "df.isnull().sum()"
   ]
  },
  {
   "cell_type": "code",
   "execution_count": 10,
   "id": "bd39a81c-bbc6-4892-a968-4833992ea3c8",
   "metadata": {},
   "outputs": [
    {
     "data": {
      "text/html": [
       "<div>\n",
       "<style scoped>\n",
       "    .dataframe tbody tr th:only-of-type {\n",
       "        vertical-align: middle;\n",
       "    }\n",
       "\n",
       "    .dataframe tbody tr th {\n",
       "        vertical-align: top;\n",
       "    }\n",
       "\n",
       "    .dataframe thead th {\n",
       "        text-align: right;\n",
       "    }\n",
       "</style>\n",
       "<table border=\"1\" class=\"dataframe\">\n",
       "  <thead>\n",
       "    <tr style=\"text-align: right;\">\n",
       "      <th></th>\n",
       "      <th>Unnamed: 0</th>\n",
       "      <th>Company</th>\n",
       "      <th>TypeName</th>\n",
       "      <th>Inches</th>\n",
       "      <th>ScreenResolution</th>\n",
       "      <th>Cpu</th>\n",
       "      <th>Ram</th>\n",
       "      <th>Memory</th>\n",
       "      <th>Gpu</th>\n",
       "      <th>OpSys</th>\n",
       "      <th>Weight</th>\n",
       "      <th>Price</th>\n",
       "    </tr>\n",
       "  </thead>\n",
       "  <tbody>\n",
       "    <tr>\n",
       "      <th>20</th>\n",
       "      <td>NaN</td>\n",
       "      <td>NaN</td>\n",
       "      <td>NaN</td>\n",
       "      <td>NaN</td>\n",
       "      <td>NaN</td>\n",
       "      <td>NaN</td>\n",
       "      <td>NaN</td>\n",
       "      <td>NaN</td>\n",
       "      <td>NaN</td>\n",
       "      <td>NaN</td>\n",
       "      <td>NaN</td>\n",
       "      <td>NaN</td>\n",
       "    </tr>\n",
       "  </tbody>\n",
       "</table>\n",
       "</div>"
      ],
      "text/plain": [
       "    Unnamed: 0 Company TypeName Inches ScreenResolution  Cpu  Ram Memory  Gpu  \\\n",
       "20         NaN     NaN      NaN    NaN              NaN  NaN  NaN    NaN  NaN   \n",
       "\n",
       "   OpSys Weight  Price  \n",
       "20   NaN    NaN    NaN  "
      ]
     },
     "execution_count": 10,
     "metadata": {},
     "output_type": "execute_result"
    }
   ],
   "source": [
    "rows_with_missing_values = df[df.isnull().any(axis=1)]\n",
    "rows_with_missing_values"
   ]
  },
  {
   "cell_type": "code",
   "execution_count": 11,
   "id": "291632b3-2e84-4f06-a0a2-5ec1bdc396fb",
   "metadata": {},
   "outputs": [],
   "source": [
    "# Drop rows with missing values\n",
    "df = df.dropna()"
   ]
  },
  {
   "cell_type": "code",
   "execution_count": 12,
   "id": "98505dd3-865c-4281-9e33-15fe3ecf1bac",
   "metadata": {},
   "outputs": [
    {
     "data": {
      "text/plain": [
       "Unnamed: 0          0\n",
       "Company             0\n",
       "TypeName            0\n",
       "Inches              0\n",
       "ScreenResolution    0\n",
       "Cpu                 0\n",
       "Ram                 0\n",
       "Memory              0\n",
       "Gpu                 0\n",
       "OpSys               0\n",
       "Weight              0\n",
       "Price               0\n",
       "dtype: int64"
      ]
     },
     "execution_count": 12,
     "metadata": {},
     "output_type": "execute_result"
    }
   ],
   "source": [
    "# Check whether missing values are dropped\n",
    "df.isnull().sum()"
   ]
  },
  {
   "cell_type": "code",
   "execution_count": 13,
   "id": "f1403298-04b5-403f-9616-3f18466505db",
   "metadata": {},
   "outputs": [],
   "source": [
    "# Drop the unnamed column ,axis=1\n",
    "df.drop(columns=['Unnamed: 0'], inplace=True)"
   ]
  },
  {
   "cell_type": "code",
   "execution_count": 14,
   "id": "bc6b6504-87ee-47ed-a7c5-1c826c8555c4",
   "metadata": {},
   "outputs": [],
   "source": [
    "df = df[~df['Inches'].str.contains(r'\\?', regex=True)]"
   ]
  },
  {
   "cell_type": "code",
   "execution_count": 15,
   "id": "2a8acb8e-0ac6-4669-9381-a34e0c36c75d",
   "metadata": {},
   "outputs": [],
   "source": [
    "df[\"Inches\"]=df[\"Inches\"].astype(float)"
   ]
  },
  {
   "cell_type": "code",
   "execution_count": 16,
   "id": "47c309a0-5021-442e-a133-1bd8727a56bd",
   "metadata": {},
   "outputs": [],
   "source": [
    "df[\"Ram\"]=df[\"Ram\"].str[:-2]"
   ]
  },
  {
   "cell_type": "code",
   "execution_count": 17,
   "id": "d8d141db-6cc5-4c26-b717-d0425bb85539",
   "metadata": {},
   "outputs": [],
   "source": [
    "df[\"Ram\"]=df[\"Ram\"].astype(int)"
   ]
  },
  {
   "cell_type": "code",
   "execution_count": 18,
   "id": "5ff9b812-6daf-40d2-93b1-c3ecc174241c",
   "metadata": {},
   "outputs": [],
   "source": [
    "df['Gpu Brand'] = df['Gpu'].str.split(\" \").apply(lambda x: x[0])"
   ]
  },
  {
   "cell_type": "code",
   "execution_count": 19,
   "id": "3d41ba47-c499-4a5c-8759-a571cd44f35b",
   "metadata": {},
   "outputs": [],
   "source": [
    "df=df.drop(\"Gpu\",axis=1)"
   ]
  },
  {
   "cell_type": "code",
   "execution_count": 20,
   "id": "78ed74d4-9af7-41bb-bdff-a710152d960c",
   "metadata": {},
   "outputs": [],
   "source": [
    "df[\"ScreenResolution\"]=df.ScreenResolution.str.split(\" \").apply(lambda x: x[-1])\n",
    "#store the splitted values in width and height\n",
    "df[\"ScreenWidth\"]=df.ScreenResolution.str.split(\"x\").apply(lambda x:x[0])\n",
    "df[\"ScreenHeight\"]=df.ScreenResolution.str.split(\"x\").apply(lambda x:x[1])\n",
    "#drop the screenresoultion since values divided among width and height\n",
    "df=df.drop(\"ScreenResolution\",axis=1)"
   ]
  },
  {
   "cell_type": "code",
   "execution_count": 21,
   "id": "d09f11c9-b2c0-472b-bab0-f02efffc7581",
   "metadata": {},
   "outputs": [],
   "source": [
    "df[\"ScreenHeight\"]=df[\"ScreenHeight\"].astype(int)\n",
    "df[\"ScreenWidth\"]=df[\"ScreenWidth\"].astype(int)"
   ]
  },
  {
   "cell_type": "code",
   "execution_count": 22,
   "id": "98153143-ae8c-41a2-9692-e22cdb286dc8",
   "metadata": {},
   "outputs": [
    {
     "name": "stdout",
     "output_type": "stream",
     "text": [
      "<class 'pandas.core.frame.DataFrame'>\n",
      "Index: 1272 entries, 0 to 1302\n",
      "Data columns (total 12 columns):\n",
      " #   Column        Non-Null Count  Dtype  \n",
      "---  ------        --------------  -----  \n",
      " 0   Company       1272 non-null   object \n",
      " 1   TypeName      1272 non-null   object \n",
      " 2   Inches        1272 non-null   float64\n",
      " 3   Cpu           1272 non-null   object \n",
      " 4   Ram           1272 non-null   int64  \n",
      " 5   Memory        1272 non-null   object \n",
      " 6   OpSys         1272 non-null   object \n",
      " 7   Weight        1272 non-null   object \n",
      " 8   Price         1272 non-null   float64\n",
      " 9   Gpu Brand     1272 non-null   object \n",
      " 10  ScreenWidth   1272 non-null   int64  \n",
      " 11  ScreenHeight  1272 non-null   int64  \n",
      "dtypes: float64(2), int64(3), object(7)\n",
      "memory usage: 129.2+ KB\n"
     ]
    }
   ],
   "source": [
    "df.info()"
   ]
  },
  {
   "cell_type": "code",
   "execution_count": 23,
   "id": "6af3dba2-6a32-45cc-b429-94a2288964f6",
   "metadata": {},
   "outputs": [],
   "source": [
    "# 1st part of the cpu is assigned as brand and the last part is assigned as freq\n",
    "df[\"CPU_Brand\"]=df.Cpu.str.split(\" \").apply(lambda x: x[0])\n",
    "df[\"CPU_Frequency\"]=df.Cpu.str.split(\" \").apply(lambda x: x[-1])\n",
    "#drop cpu since needed value divided amoung brand and frequency\n",
    "df=df.drop(\"Cpu\",axis=1)"
   ]
  },
  {
   "cell_type": "code",
   "execution_count": 24,
   "id": "6cb20dac-3d2e-4b1d-acf7-aaa4a12ba71d",
   "metadata": {},
   "outputs": [],
   "source": [
    "df[\"CPU_Frequency\"]=df[\"CPU_Frequency\"].str[:-3]"
   ]
  },
  {
   "cell_type": "code",
   "execution_count": 25,
   "id": "e5bdc3c5-4807-4188-a06d-e92e706bdd33",
   "metadata": {},
   "outputs": [],
   "source": [
    "df[\"CPU_Frequency\"]=df[\"CPU_Frequency\"].astype(float)"
   ]
  },
  {
   "cell_type": "code",
   "execution_count": 26,
   "id": "a6f635ce-90cc-4548-90e4-28f22a6f50c6",
   "metadata": {},
   "outputs": [],
   "source": [
    "df = df[~df['Memory'].str.contains(r'\\?', regex=True)]"
   ]
  },
  {
   "cell_type": "code",
   "execution_count": 27,
   "id": "0f0267f6-1e3a-4b79-8eb9-27740d053411",
   "metadata": {},
   "outputs": [
    {
     "name": "stdout",
     "output_type": "stream",
     "text": [
      "     Company            TypeName  Inches  Ram               Memory  \\\n",
      "0      Apple           Ultrabook    13.3    8            128GB SSD   \n",
      "1      Apple           Ultrabook    13.3    8  128GB Flash Storage   \n",
      "2         HP            Notebook    15.6    8            256GB SSD   \n",
      "3      Apple           Ultrabook    15.4   16            512GB SSD   \n",
      "4      Apple           Ultrabook    13.3    8            256GB SSD   \n",
      "...      ...                 ...     ...  ...                  ...   \n",
      "1298  Lenovo  2 in 1 Convertible    14.0    4            128GB SSD   \n",
      "1299  Lenovo  2 in 1 Convertible    13.3   16            512GB SSD   \n",
      "1300  Lenovo            Notebook    14.0    2   64GB Flash Storage   \n",
      "1301      HP            Notebook    15.6    6              1TB HDD   \n",
      "1302    Asus            Notebook    15.6    4            500GB HDD   \n",
      "\n",
      "           OpSys  Weight        Price Gpu Brand  ScreenWidth  ScreenHeight  \\\n",
      "0          macOS  1.37kg   71378.6832     Intel         2560          1600   \n",
      "1          macOS  1.34kg   47895.5232     Intel         1440           900   \n",
      "2          No OS  1.86kg   30636.0000     Intel         1920          1080   \n",
      "3          macOS  1.83kg  135195.3360       AMD         2880          1800   \n",
      "4          macOS  1.37kg   96095.8080     Intel         2560          1600   \n",
      "...          ...     ...          ...       ...          ...           ...   \n",
      "1298  Windows 10   1.8kg   33992.6400     Intel         1920          1080   \n",
      "1299  Windows 10   1.3kg   79866.7200     Intel         3200          1800   \n",
      "1300  Windows 10   1.5kg   12201.1200     Intel         1366           768   \n",
      "1301  Windows 10  2.19kg   40705.9200       AMD         1366           768   \n",
      "1302  Windows 10   2.2kg   19660.3200     Intel         1366           768   \n",
      "\n",
      "     CPU_Brand  CPU_Frequency  ssd  flashstorage   hdd  hybrid  \n",
      "0        Intel            2.3  128             0     0       0  \n",
      "1        Intel            1.8    0           128     0       0  \n",
      "2        Intel            2.5  256             0     0       0  \n",
      "3        Intel            2.7  512             0     0       0  \n",
      "4        Intel            3.1  256             0     0       0  \n",
      "...        ...            ...  ...           ...   ...     ...  \n",
      "1298     Intel            2.5  128             0     0       0  \n",
      "1299     Intel            2.5  512             0     0       0  \n",
      "1300     Intel            1.6    0            64     0       0  \n",
      "1301     Intel            2.5    0             0  1024       0  \n",
      "1302     Intel            1.6    0             0   500       0  \n",
      "\n",
      "[1271 rows x 17 columns]\n"
     ]
    }
   ],
   "source": [
    "import pandas as pd\n",
    "import re\n",
    "\n",
    "# Function to clean the memory details\n",
    "def clean_memory(memory):\n",
    "    if isinstance(memory, str):  # Ensure the input is a string\n",
    "        memory = memory.lower()  # Lowercase all for uniformity\n",
    "        memory = memory.replace('flash storage', 'flashstorage')  # Join 'flash storage' into one word\n",
    "\n",
    "        # Regular expression to capture the amount and type of memory\n",
    "        memory_units = re.findall(r'(\\d+)(gb|tb)\\s*(ssd|flashstorage|hdd|hybrid)', memory)\n",
    "\n",
    "        # Dictionary to store the converted values\n",
    "        memory_dict = {'ssd': 0, 'flashstorage': 0, 'hdd': 0, 'hybrid': 0}\n",
    "\n",
    "        for value, unit, memory_type in memory_units:\n",
    "            # Convert all to GB (1TB = 1024GB)\n",
    "            if unit == 'tb':\n",
    "                value_in_gb = int(value) * 1024\n",
    "            else:\n",
    "                value_in_gb = int(value)\n",
    "\n",
    "            # Add the value to the respective memory type\n",
    "            memory_dict[memory_type] += value_in_gb\n",
    "\n",
    "        return pd.Series(memory_dict)\n",
    "    else:\n",
    "        # Return 0 for all columns if the value is not a string\n",
    "        return pd.Series({'ssd': 0, 'flashstorage': 0, 'hdd': 0, 'hybrid': 0})\n",
    "\n",
    "# Apply the cleaning function to the 'Memory' column\n",
    "df_cleaned = df['Memory'].apply(clean_memory)\n",
    "\n",
    "# Concatenate the original DataFrame with the cleaned memory columns\n",
    "df = pd.concat([df, df_cleaned], axis=1)\n",
    "\n",
    "# Display the final DataFrame\n",
    "print(df)"
   ]
  },
  {
   "cell_type": "code",
   "execution_count": 28,
   "id": "048b9136-77bb-46e8-942a-d7886bac37cb",
   "metadata": {},
   "outputs": [],
   "source": [
    "df=df.drop(\"Memory\",axis=1)"
   ]
  },
  {
   "cell_type": "code",
   "execution_count": 29,
   "id": "1c1ad179-eef2-4932-b9cb-d45049d29393",
   "metadata": {},
   "outputs": [],
   "source": [
    "df[\"Weight\"]=df[\"Weight\"].str[:-2]"
   ]
  },
  {
   "cell_type": "code",
   "execution_count": 30,
   "id": "7336ede3-7876-4c6a-818e-77d06c3d3c5c",
   "metadata": {},
   "outputs": [],
   "source": [
    "df['Weight'] = df['Weight'].replace('', np.nan)"
   ]
  },
  {
   "cell_type": "code",
   "execution_count": 31,
   "id": "411242e9-e60f-4655-9ff2-07f610ea41d5",
   "metadata": {},
   "outputs": [],
   "source": [
    "df = df.dropna(subset=['Weight'])"
   ]
  },
  {
   "cell_type": "code",
   "execution_count": 32,
   "id": "1799c8c5-e409-4540-bdb0-09a6d5c4fff6",
   "metadata": {},
   "outputs": [
    {
     "data": {
      "text/plain": [
       "Weight\n",
       "2.2      111\n",
       "2.1       57\n",
       "2.4       43\n",
       "2.3       40\n",
       "2.5       37\n",
       "        ... \n",
       "3.52       1\n",
       "2.21       1\n",
       "2.191      1\n",
       "2.34       1\n",
       "4.0        1\n",
       "Name: count, Length: 188, dtype: int64"
      ]
     },
     "execution_count": 32,
     "metadata": {},
     "output_type": "execute_result"
    }
   ],
   "source": [
    "df['Weight'].value_counts(dropna=False)"
   ]
  },
  {
   "cell_type": "code",
   "execution_count": 33,
   "id": "bad55637-d24a-40e4-95db-578a67345d86",
   "metadata": {},
   "outputs": [],
   "source": [
    "df[ 'Weight'] = df['Weight'].astype('float')"
   ]
  },
  {
   "cell_type": "code",
   "execution_count": 34,
   "id": "7ecb8717-1196-43fd-84dc-ae04b3d04313",
   "metadata": {},
   "outputs": [
    {
     "name": "stdout",
     "output_type": "stream",
     "text": [
      "<class 'pandas.core.frame.DataFrame'>\n",
      "Index: 1270 entries, 0 to 1302\n",
      "Data columns (total 16 columns):\n",
      " #   Column         Non-Null Count  Dtype  \n",
      "---  ------         --------------  -----  \n",
      " 0   Company        1270 non-null   object \n",
      " 1   TypeName       1270 non-null   object \n",
      " 2   Inches         1270 non-null   float64\n",
      " 3   Ram            1270 non-null   int64  \n",
      " 4   OpSys          1270 non-null   object \n",
      " 5   Weight         1270 non-null   float64\n",
      " 6   Price          1270 non-null   float64\n",
      " 7   Gpu Brand      1270 non-null   object \n",
      " 8   ScreenWidth    1270 non-null   int64  \n",
      " 9   ScreenHeight   1270 non-null   int64  \n",
      " 10  CPU_Brand      1270 non-null   object \n",
      " 11  CPU_Frequency  1270 non-null   float64\n",
      " 12  ssd            1270 non-null   int64  \n",
      " 13  flashstorage   1270 non-null   int64  \n",
      " 14  hdd            1270 non-null   int64  \n",
      " 15  hybrid         1270 non-null   int64  \n",
      "dtypes: float64(4), int64(7), object(5)\n",
      "memory usage: 168.7+ KB\n"
     ]
    }
   ],
   "source": [
    "df.info()"
   ]
  },
  {
   "cell_type": "code",
   "execution_count": 35,
   "id": "d81a6c6b-ad2f-4788-9e3a-4c789a1aab1d",
   "metadata": {},
   "outputs": [
    {
     "name": "stdout",
     "output_type": "stream",
     "text": [
      "            Price Price_Category\n",
      "0      71378.6832           High\n",
      "1      47895.5232         Medium\n",
      "2      30636.0000            Low\n",
      "3     135195.3360      Very High\n",
      "4      96095.8080      Very High\n",
      "...           ...            ...\n",
      "1298   33992.6400            Low\n",
      "1299   79866.7200           High\n",
      "1300   12201.1200       Very Low\n",
      "1301   40705.9200            Low\n",
      "1302   19660.3200       Very Low\n",
      "\n",
      "[1270 rows x 2 columns]\n"
     ]
    }
   ],
   "source": [
    "import pandas as pd\n",
    "#equal width binning\n",
    "#qcut is used to split data to equally to each bin\n",
    "#Q=Number of Bins\n",
    "df['Price_Category'] = pd.qcut(df['Price'], q=5, labels=['Very Low', 'Low', 'Medium', 'High', 'Very High'])\n",
    "\n",
    "print(df[['Price', 'Price_Category']])\n"
   ]
  },
  {
   "cell_type": "code",
   "execution_count": 36,
   "id": "216e5762-f044-484d-9e9e-ac8ed5f1246d",
   "metadata": {},
   "outputs": [
    {
     "name": "stdout",
     "output_type": "stream",
     "text": [
      "[  9270.72    28238.4     43474.8816  60962.976   87869.376  324954.72  ]\n"
     ]
    }
   ],
   "source": [
    "# Show the bin edges\n",
    "categories, bins = pd.qcut(df['Price'], q=5, labels=['Very Low', 'Low', 'Medium', 'High', 'Very High'], retbins=True)\n",
    "\n",
    "# Print the bin edges\n",
    "print(bins)\n"
   ]
  },
  {
   "cell_type": "code",
   "execution_count": 37,
   "id": "54c91115-a612-4ccf-a0b0-b53e23e5e0cb",
   "metadata": {},
   "outputs": [
    {
     "name": "stdout",
     "output_type": "stream",
     "text": [
      "            Price Price_Category             Price_Range\n",
      "0      71378.6832           High  (60962.976, 87869.376]\n",
      "1      47895.5232         Medium  (43474.882, 60962.976]\n",
      "2      30636.0000            Low    (28238.4, 43474.882]\n",
      "3     135195.3360      Very High  (87869.376, 324954.72]\n",
      "4      96095.8080      Very High  (87869.376, 324954.72]\n",
      "...           ...            ...                     ...\n",
      "1298   33992.6400            Low    (28238.4, 43474.882]\n",
      "1299   79866.7200           High  (60962.976, 87869.376]\n",
      "1300   12201.1200       Very Low      (9270.72, 28238.4]\n",
      "1301   40705.9200            Low    (28238.4, 43474.882]\n",
      "1302   19660.3200       Very Low      (9270.72, 28238.4]\n",
      "\n",
      "[1270 rows x 3 columns]\n"
     ]
    }
   ],
   "source": [
    "import pandas as pd\n",
    "\n",
    "# Assuming you already have your dataset loaded\n",
    "# Use pd.qcut to create the categories and also return the bins\n",
    "df['Price_Category'], bins = pd.qcut(df['Price'], q=5, labels=['Very Low', 'Low', 'Medium', 'High', 'Very High'], retbins=True)\n",
    "\n",
    "# Create a new column that indicates the bin range for each row\n",
    "df['Price_Range'] = pd.cut(df['Price'], bins=bins)\n",
    "\n",
    "# Display the updated DataFrame\n",
    "print(df[['Price', 'Price_Category', 'Price_Range']])\n"
   ]
  },
  {
   "cell_type": "code",
   "execution_count": 38,
   "id": "9be23f78-a534-4a02-ae31-7e7684ff743c",
   "metadata": {},
   "outputs": [
    {
     "data": {
      "text/html": [
       "<div>\n",
       "<style scoped>\n",
       "    .dataframe tbody tr th:only-of-type {\n",
       "        vertical-align: middle;\n",
       "    }\n",
       "\n",
       "    .dataframe tbody tr th {\n",
       "        vertical-align: top;\n",
       "    }\n",
       "\n",
       "    .dataframe thead th {\n",
       "        text-align: right;\n",
       "    }\n",
       "</style>\n",
       "<table border=\"1\" class=\"dataframe\">\n",
       "  <thead>\n",
       "    <tr style=\"text-align: right;\">\n",
       "      <th></th>\n",
       "      <th>Company</th>\n",
       "      <th>TypeName</th>\n",
       "      <th>Inches</th>\n",
       "      <th>Ram</th>\n",
       "      <th>OpSys</th>\n",
       "      <th>Weight</th>\n",
       "      <th>Price</th>\n",
       "      <th>Gpu Brand</th>\n",
       "      <th>ScreenWidth</th>\n",
       "      <th>ScreenHeight</th>\n",
       "      <th>CPU_Brand</th>\n",
       "      <th>CPU_Frequency</th>\n",
       "      <th>ssd</th>\n",
       "      <th>flashstorage</th>\n",
       "      <th>hdd</th>\n",
       "      <th>hybrid</th>\n",
       "      <th>Price_Category</th>\n",
       "      <th>Price_Range</th>\n",
       "    </tr>\n",
       "  </thead>\n",
       "  <tbody>\n",
       "    <tr>\n",
       "      <th>0</th>\n",
       "      <td>Apple</td>\n",
       "      <td>Ultrabook</td>\n",
       "      <td>13.3</td>\n",
       "      <td>8</td>\n",
       "      <td>macOS</td>\n",
       "      <td>1.37</td>\n",
       "      <td>71378.6832</td>\n",
       "      <td>Intel</td>\n",
       "      <td>2560</td>\n",
       "      <td>1600</td>\n",
       "      <td>Intel</td>\n",
       "      <td>2.3</td>\n",
       "      <td>128</td>\n",
       "      <td>0</td>\n",
       "      <td>0</td>\n",
       "      <td>0</td>\n",
       "      <td>High</td>\n",
       "      <td>(60962.976, 87869.376]</td>\n",
       "    </tr>\n",
       "    <tr>\n",
       "      <th>1</th>\n",
       "      <td>Apple</td>\n",
       "      <td>Ultrabook</td>\n",
       "      <td>13.3</td>\n",
       "      <td>8</td>\n",
       "      <td>macOS</td>\n",
       "      <td>1.34</td>\n",
       "      <td>47895.5232</td>\n",
       "      <td>Intel</td>\n",
       "      <td>1440</td>\n",
       "      <td>900</td>\n",
       "      <td>Intel</td>\n",
       "      <td>1.8</td>\n",
       "      <td>0</td>\n",
       "      <td>128</td>\n",
       "      <td>0</td>\n",
       "      <td>0</td>\n",
       "      <td>Medium</td>\n",
       "      <td>(43474.882, 60962.976]</td>\n",
       "    </tr>\n",
       "    <tr>\n",
       "      <th>2</th>\n",
       "      <td>HP</td>\n",
       "      <td>Notebook</td>\n",
       "      <td>15.6</td>\n",
       "      <td>8</td>\n",
       "      <td>No OS</td>\n",
       "      <td>1.86</td>\n",
       "      <td>30636.0000</td>\n",
       "      <td>Intel</td>\n",
       "      <td>1920</td>\n",
       "      <td>1080</td>\n",
       "      <td>Intel</td>\n",
       "      <td>2.5</td>\n",
       "      <td>256</td>\n",
       "      <td>0</td>\n",
       "      <td>0</td>\n",
       "      <td>0</td>\n",
       "      <td>Low</td>\n",
       "      <td>(28238.4, 43474.882]</td>\n",
       "    </tr>\n",
       "    <tr>\n",
       "      <th>3</th>\n",
       "      <td>Apple</td>\n",
       "      <td>Ultrabook</td>\n",
       "      <td>15.4</td>\n",
       "      <td>16</td>\n",
       "      <td>macOS</td>\n",
       "      <td>1.83</td>\n",
       "      <td>135195.3360</td>\n",
       "      <td>AMD</td>\n",
       "      <td>2880</td>\n",
       "      <td>1800</td>\n",
       "      <td>Intel</td>\n",
       "      <td>2.7</td>\n",
       "      <td>512</td>\n",
       "      <td>0</td>\n",
       "      <td>0</td>\n",
       "      <td>0</td>\n",
       "      <td>Very High</td>\n",
       "      <td>(87869.376, 324954.72]</td>\n",
       "    </tr>\n",
       "    <tr>\n",
       "      <th>4</th>\n",
       "      <td>Apple</td>\n",
       "      <td>Ultrabook</td>\n",
       "      <td>13.3</td>\n",
       "      <td>8</td>\n",
       "      <td>macOS</td>\n",
       "      <td>1.37</td>\n",
       "      <td>96095.8080</td>\n",
       "      <td>Intel</td>\n",
       "      <td>2560</td>\n",
       "      <td>1600</td>\n",
       "      <td>Intel</td>\n",
       "      <td>3.1</td>\n",
       "      <td>256</td>\n",
       "      <td>0</td>\n",
       "      <td>0</td>\n",
       "      <td>0</td>\n",
       "      <td>Very High</td>\n",
       "      <td>(87869.376, 324954.72]</td>\n",
       "    </tr>\n",
       "  </tbody>\n",
       "</table>\n",
       "</div>"
      ],
      "text/plain": [
       "  Company   TypeName  Inches  Ram  OpSys  Weight        Price Gpu Brand  \\\n",
       "0   Apple  Ultrabook    13.3    8  macOS    1.37   71378.6832     Intel   \n",
       "1   Apple  Ultrabook    13.3    8  macOS    1.34   47895.5232     Intel   \n",
       "2      HP   Notebook    15.6    8  No OS    1.86   30636.0000     Intel   \n",
       "3   Apple  Ultrabook    15.4   16  macOS    1.83  135195.3360       AMD   \n",
       "4   Apple  Ultrabook    13.3    8  macOS    1.37   96095.8080     Intel   \n",
       "\n",
       "   ScreenWidth  ScreenHeight CPU_Brand  CPU_Frequency  ssd  flashstorage  hdd  \\\n",
       "0         2560          1600     Intel            2.3  128             0    0   \n",
       "1         1440           900     Intel            1.8    0           128    0   \n",
       "2         1920          1080     Intel            2.5  256             0    0   \n",
       "3         2880          1800     Intel            2.7  512             0    0   \n",
       "4         2560          1600     Intel            3.1  256             0    0   \n",
       "\n",
       "   hybrid Price_Category             Price_Range  \n",
       "0       0           High  (60962.976, 87869.376]  \n",
       "1       0         Medium  (43474.882, 60962.976]  \n",
       "2       0            Low    (28238.4, 43474.882]  \n",
       "3       0      Very High  (87869.376, 324954.72]  \n",
       "4       0      Very High  (87869.376, 324954.72]  "
      ]
     },
     "execution_count": 38,
     "metadata": {},
     "output_type": "execute_result"
    }
   ],
   "source": [
    "df.head()"
   ]
  },
  {
   "cell_type": "code",
   "execution_count": 39,
   "id": "4b8e2983-a50f-4a3d-a8da-122e864a1f29",
   "metadata": {},
   "outputs": [
    {
     "name": "stdout",
     "output_type": "stream",
     "text": [
      "<class 'pandas.core.frame.DataFrame'>\n",
      "Index: 1270 entries, 0 to 1302\n",
      "Data columns (total 18 columns):\n",
      " #   Column          Non-Null Count  Dtype   \n",
      "---  ------          --------------  -----   \n",
      " 0   Company         1270 non-null   object  \n",
      " 1   TypeName        1270 non-null   object  \n",
      " 2   Inches          1270 non-null   float64 \n",
      " 3   Ram             1270 non-null   int64   \n",
      " 4   OpSys           1270 non-null   object  \n",
      " 5   Weight          1270 non-null   float64 \n",
      " 6   Price           1270 non-null   float64 \n",
      " 7   Gpu Brand       1270 non-null   object  \n",
      " 8   ScreenWidth     1270 non-null   int64   \n",
      " 9   ScreenHeight    1270 non-null   int64   \n",
      " 10  CPU_Brand       1270 non-null   object  \n",
      " 11  CPU_Frequency   1270 non-null   float64 \n",
      " 12  ssd             1270 non-null   int64   \n",
      " 13  flashstorage    1270 non-null   int64   \n",
      " 14  hdd             1270 non-null   int64   \n",
      " 15  hybrid          1270 non-null   int64   \n",
      " 16  Price_Category  1270 non-null   category\n",
      " 17  Price_Range     1269 non-null   category\n",
      "dtypes: category(2), float64(4), int64(7), object(5)\n",
      "memory usage: 171.6+ KB\n"
     ]
    }
   ],
   "source": [
    "df.info()"
   ]
  },
  {
   "cell_type": "code",
   "execution_count": 40,
   "id": "4de6f0a9-6819-40bf-949d-2bedec41de9d",
   "metadata": {},
   "outputs": [
    {
     "name": "stdout",
     "output_type": "stream",
     "text": [
      "Column: Company\n",
      "0 -> Acer\n",
      "1 -> Apple\n",
      "2 -> Asus\n",
      "3 -> Chuwi\n",
      "4 -> Dell\n",
      "5 -> Fujitsu\n",
      "6 -> Google\n",
      "7 -> HP\n",
      "8 -> Huawei\n",
      "9 -> LG\n",
      "10 -> Lenovo\n",
      "11 -> MSI\n",
      "12 -> Mediacom\n",
      "13 -> Microsoft\n",
      "14 -> Razer\n",
      "15 -> Samsung\n",
      "16 -> Toshiba\n",
      "17 -> Vero\n",
      "18 -> Xiaomi\n",
      "\n",
      "\n",
      "Column: TypeName\n",
      "0 -> 2 in 1 Convertible\n",
      "1 -> Gaming\n",
      "2 -> Netbook\n",
      "3 -> Notebook\n",
      "4 -> Ultrabook\n",
      "5 -> Workstation\n",
      "\n",
      "\n",
      "Column: OpSys\n",
      "0 -> Android\n",
      "1 -> Chrome OS\n",
      "2 -> Linux\n",
      "3 -> Mac OS X\n",
      "4 -> No OS\n",
      "5 -> Windows 10\n",
      "6 -> Windows 10 S\n",
      "7 -> Windows 7\n",
      "8 -> macOS\n",
      "\n",
      "\n",
      "Column: Gpu Brand\n",
      "0 -> AMD\n",
      "1 -> ARM\n",
      "2 -> Intel\n",
      "3 -> Nvidia\n",
      "\n",
      "\n",
      "Column: CPU_Brand\n",
      "0 -> AMD\n",
      "1 -> Intel\n",
      "2 -> Samsung\n",
      "\n",
      "\n"
     ]
    }
   ],
   "source": [
    "from sklearn.preprocessing import LabelEncoder\n",
    "\n",
    "# Create a dictionary to store LabelEncoders for each categorical column\n",
    "encoders = {}\n",
    "\n",
    "# Apply Label Encoding to each object-type column and save the encoders\n",
    "for col in df.columns:\n",
    "    if df[col].dtype == 'object':  # Use only object columns (categorical)\n",
    "        le = LabelEncoder()\n",
    "        df[col] = le.fit_transform(df[col].astype(str))\n",
    "        encoders[col] = le\n",
    "\n",
    "# To display the mapping of encoded values to original values for each column\n",
    "for col, le in encoders.items():\n",
    "    print(f\"Column: {col}\")\n",
    "    for original_value, encoded_value in zip(le.classes_, le.transform(le.classes_)):\n",
    "        print(f\"{encoded_value} -> {original_value}\")\n",
    "    print(\"\\n\")\n"
   ]
  },
  {
   "cell_type": "code",
   "execution_count": 41,
   "id": "952a7d3b-9fa6-456d-a419-10148421598c",
   "metadata": {},
   "outputs": [
    {
     "data": {
      "text/html": [
       "<div>\n",
       "<style scoped>\n",
       "    .dataframe tbody tr th:only-of-type {\n",
       "        vertical-align: middle;\n",
       "    }\n",
       "\n",
       "    .dataframe tbody tr th {\n",
       "        vertical-align: top;\n",
       "    }\n",
       "\n",
       "    .dataframe thead th {\n",
       "        text-align: right;\n",
       "    }\n",
       "</style>\n",
       "<table border=\"1\" class=\"dataframe\">\n",
       "  <thead>\n",
       "    <tr style=\"text-align: right;\">\n",
       "      <th></th>\n",
       "      <th>Company</th>\n",
       "      <th>TypeName</th>\n",
       "      <th>Inches</th>\n",
       "      <th>Ram</th>\n",
       "      <th>OpSys</th>\n",
       "      <th>Weight</th>\n",
       "      <th>Price</th>\n",
       "      <th>Gpu Brand</th>\n",
       "      <th>ScreenWidth</th>\n",
       "      <th>ScreenHeight</th>\n",
       "      <th>CPU_Brand</th>\n",
       "      <th>CPU_Frequency</th>\n",
       "      <th>ssd</th>\n",
       "      <th>flashstorage</th>\n",
       "      <th>hdd</th>\n",
       "      <th>hybrid</th>\n",
       "      <th>Price_Category</th>\n",
       "      <th>Price_Range</th>\n",
       "    </tr>\n",
       "  </thead>\n",
       "  <tbody>\n",
       "    <tr>\n",
       "      <th>0</th>\n",
       "      <td>1</td>\n",
       "      <td>4</td>\n",
       "      <td>13.3</td>\n",
       "      <td>8</td>\n",
       "      <td>8</td>\n",
       "      <td>1.37</td>\n",
       "      <td>71378.6832</td>\n",
       "      <td>2</td>\n",
       "      <td>2560</td>\n",
       "      <td>1600</td>\n",
       "      <td>1</td>\n",
       "      <td>2.3</td>\n",
       "      <td>128</td>\n",
       "      <td>0</td>\n",
       "      <td>0</td>\n",
       "      <td>0</td>\n",
       "      <td>High</td>\n",
       "      <td>(60962.976, 87869.376]</td>\n",
       "    </tr>\n",
       "    <tr>\n",
       "      <th>1</th>\n",
       "      <td>1</td>\n",
       "      <td>4</td>\n",
       "      <td>13.3</td>\n",
       "      <td>8</td>\n",
       "      <td>8</td>\n",
       "      <td>1.34</td>\n",
       "      <td>47895.5232</td>\n",
       "      <td>2</td>\n",
       "      <td>1440</td>\n",
       "      <td>900</td>\n",
       "      <td>1</td>\n",
       "      <td>1.8</td>\n",
       "      <td>0</td>\n",
       "      <td>128</td>\n",
       "      <td>0</td>\n",
       "      <td>0</td>\n",
       "      <td>Medium</td>\n",
       "      <td>(43474.882, 60962.976]</td>\n",
       "    </tr>\n",
       "    <tr>\n",
       "      <th>2</th>\n",
       "      <td>7</td>\n",
       "      <td>3</td>\n",
       "      <td>15.6</td>\n",
       "      <td>8</td>\n",
       "      <td>4</td>\n",
       "      <td>1.86</td>\n",
       "      <td>30636.0000</td>\n",
       "      <td>2</td>\n",
       "      <td>1920</td>\n",
       "      <td>1080</td>\n",
       "      <td>1</td>\n",
       "      <td>2.5</td>\n",
       "      <td>256</td>\n",
       "      <td>0</td>\n",
       "      <td>0</td>\n",
       "      <td>0</td>\n",
       "      <td>Low</td>\n",
       "      <td>(28238.4, 43474.882]</td>\n",
       "    </tr>\n",
       "    <tr>\n",
       "      <th>3</th>\n",
       "      <td>1</td>\n",
       "      <td>4</td>\n",
       "      <td>15.4</td>\n",
       "      <td>16</td>\n",
       "      <td>8</td>\n",
       "      <td>1.83</td>\n",
       "      <td>135195.3360</td>\n",
       "      <td>0</td>\n",
       "      <td>2880</td>\n",
       "      <td>1800</td>\n",
       "      <td>1</td>\n",
       "      <td>2.7</td>\n",
       "      <td>512</td>\n",
       "      <td>0</td>\n",
       "      <td>0</td>\n",
       "      <td>0</td>\n",
       "      <td>Very High</td>\n",
       "      <td>(87869.376, 324954.72]</td>\n",
       "    </tr>\n",
       "    <tr>\n",
       "      <th>4</th>\n",
       "      <td>1</td>\n",
       "      <td>4</td>\n",
       "      <td>13.3</td>\n",
       "      <td>8</td>\n",
       "      <td>8</td>\n",
       "      <td>1.37</td>\n",
       "      <td>96095.8080</td>\n",
       "      <td>2</td>\n",
       "      <td>2560</td>\n",
       "      <td>1600</td>\n",
       "      <td>1</td>\n",
       "      <td>3.1</td>\n",
       "      <td>256</td>\n",
       "      <td>0</td>\n",
       "      <td>0</td>\n",
       "      <td>0</td>\n",
       "      <td>Very High</td>\n",
       "      <td>(87869.376, 324954.72]</td>\n",
       "    </tr>\n",
       "  </tbody>\n",
       "</table>\n",
       "</div>"
      ],
      "text/plain": [
       "   Company  TypeName  Inches  Ram  OpSys  Weight        Price  Gpu Brand  \\\n",
       "0        1         4    13.3    8      8    1.37   71378.6832          2   \n",
       "1        1         4    13.3    8      8    1.34   47895.5232          2   \n",
       "2        7         3    15.6    8      4    1.86   30636.0000          2   \n",
       "3        1         4    15.4   16      8    1.83  135195.3360          0   \n",
       "4        1         4    13.3    8      8    1.37   96095.8080          2   \n",
       "\n",
       "   ScreenWidth  ScreenHeight  CPU_Brand  CPU_Frequency  ssd  flashstorage  \\\n",
       "0         2560          1600          1            2.3  128             0   \n",
       "1         1440           900          1            1.8    0           128   \n",
       "2         1920          1080          1            2.5  256             0   \n",
       "3         2880          1800          1            2.7  512             0   \n",
       "4         2560          1600          1            3.1  256             0   \n",
       "\n",
       "   hdd  hybrid Price_Category             Price_Range  \n",
       "0    0       0           High  (60962.976, 87869.376]  \n",
       "1    0       0         Medium  (43474.882, 60962.976]  \n",
       "2    0       0            Low    (28238.4, 43474.882]  \n",
       "3    0       0      Very High  (87869.376, 324954.72]  \n",
       "4    0       0      Very High  (87869.376, 324954.72]  "
      ]
     },
     "execution_count": 41,
     "metadata": {},
     "output_type": "execute_result"
    }
   ],
   "source": [
    "df.head()"
   ]
  },
  {
   "cell_type": "code",
   "execution_count": 51,
   "id": "74c74c5d-f8da-42a4-831b-90169c8fa1c2",
   "metadata": {},
   "outputs": [],
   "source": [
    "from sklearn.model_selection import train_test_split\n",
    "\n",
    "###  Prepare Target Variables\n",
    "X = df.drop(['Price', 'Price_Category', 'Price_Range'], axis=1)  # Features\n",
    "y = df['Price_Category']  # Target variable\n",
    "X_train, X_test, y_train, y_test = train_test_split(X, y, test_size=0.2, random_state=42)"
   ]
  },
  {
   "cell_type": "code",
   "execution_count": 52,
   "id": "c9a436b5-662c-4f2d-9904-1fa1e7a00eec",
   "metadata": {},
   "outputs": [
    {
     "name": "stdout",
     "output_type": "stream",
     "text": [
      "Accuracy: 72.05%\n",
      "Classification Report:\n",
      "              precision    recall  f1-score   support\n",
      "\n",
      "        High       0.67      0.57      0.62        51\n",
      "         Low       0.57      0.81      0.67        42\n",
      "      Medium       0.72      0.55      0.62        53\n",
      "   Very High       0.67      0.91      0.77        35\n",
      "    Very Low       0.94      0.81      0.87        73\n",
      "\n",
      "    accuracy                           0.72       254\n",
      "   macro avg       0.71      0.73      0.71       254\n",
      "weighted avg       0.74      0.72      0.72       254\n",
      "\n"
     ]
    }
   ],
   "source": [
    "##  Train a Classification Model\n",
    "from sklearn.ensemble import RandomForestClassifier\n",
    "clf = RandomForestClassifier(random_state=42)\n",
    "clf.fit(X_train, y_train)\n",
    "\n",
    "## Evaluate the Model\n",
    "y_pred = clf.predict(X_test)\n",
    "\n",
    "# Store the accuracy in a variable\n",
    "from sklearn.metrics import accuracy_score, classification_report\n",
    "accuracy_rf = accuracy_score(y_test, y_pred) * 100  # Accuracy stored in a variable\n",
    "\n",
    "# Print the accuracy and classification report\n",
    "print(f\"Accuracy: {accuracy_rf:.2f}%\")\n",
    "print(f\"Classification Report:\\n{classification_report(y_test, y_pred)}\")\n"
   ]
  },
  {
   "cell_type": "code",
   "execution_count": 53,
   "id": "1522cdab-a9a0-46c4-acbf-cc2bd804d512",
   "metadata": {},
   "outputs": [
    {
     "name": "stdout",
     "output_type": "stream",
     "text": [
      "Accuracy (Logistic Regression): 34.25%\n",
      "Classification Report (Logistic Regression):\n",
      "              precision    recall  f1-score   support\n",
      "\n",
      "        High       0.40      0.04      0.07        51\n",
      "         Low       0.23      0.19      0.21        42\n",
      "      Medium       0.29      0.19      0.23        53\n",
      "   Very High       0.27      0.83      0.41        35\n",
      "    Very Low       0.54      0.52      0.53        73\n",
      "\n",
      "    accuracy                           0.34       254\n",
      "   macro avg       0.34      0.35      0.29       254\n",
      "weighted avg       0.37      0.34      0.30       254\n",
      "\n"
     ]
    },
    {
     "name": "stderr",
     "output_type": "stream",
     "text": [
      "C:\\Users\\Dell\\AppData\\Local\\Programs\\Python\\Python312\\Lib\\site-packages\\sklearn\\linear_model\\_logistic.py:469: ConvergenceWarning: lbfgs failed to converge (status=1):\n",
      "STOP: TOTAL NO. of ITERATIONS REACHED LIMIT.\n",
      "\n",
      "Increase the number of iterations (max_iter) or scale the data as shown in:\n",
      "    https://scikit-learn.org/stable/modules/preprocessing.html\n",
      "Please also refer to the documentation for alternative solver options:\n",
      "    https://scikit-learn.org/stable/modules/linear_model.html#logistic-regression\n",
      "  n_iter_i = _check_optimize_result(\n"
     ]
    }
   ],
   "source": [
    "from sklearn.linear_model import LogisticRegression\n",
    "\n",
    "# Create an instance of the Logistic Regression model\n",
    "log_reg = LogisticRegression(random_state=42)\n",
    "\n",
    "# Train the model on the training data\n",
    "log_reg.fit(X_train, y_train)\n",
    "\n",
    "# Evaluate the Model\n",
    "y_pred_log_reg = log_reg.predict(X_test)\n",
    "\n",
    "# Store the accuracy in a variable\n",
    "from sklearn.metrics import accuracy_score, classification_report\n",
    "accuracy_log_reg = accuracy_score(y_test, y_pred_log_reg) * 100  # Accuracy stored in a variable\n",
    "\n",
    "# Print Accuracy and Classification Report\n",
    "print(f\"Accuracy (Logistic Regression): {accuracy_log_reg:.2f}%\")\n",
    "print(f\"Classification Report (Logistic Regression):\\n{classification_report(y_test, y_pred_log_reg)}\")\n"
   ]
  },
  {
   "cell_type": "code",
   "execution_count": 54,
   "id": "37faa614-b5f1-4568-9ba6-a692d78c4362",
   "metadata": {},
   "outputs": [
    {
     "name": "stdout",
     "output_type": "stream",
     "text": [
      "Accuracy (SVM): 48.03%\n",
      "Classification Report (SVM):\n",
      "              precision    recall  f1-score   support\n",
      "\n",
      "        High       0.36      0.61      0.45        51\n",
      "         Low       0.33      0.02      0.04        42\n",
      "      Medium       0.27      0.34      0.30        53\n",
      "   Very High       0.67      0.46      0.54        35\n",
      "    Very Low       0.76      0.77      0.76        73\n",
      "\n",
      "    accuracy                           0.48       254\n",
      "   macro avg       0.48      0.44      0.42       254\n",
      "weighted avg       0.49      0.48      0.45       254\n",
      "\n"
     ]
    }
   ],
   "source": [
    "from sklearn.svm import SVC\n",
    "\n",
    "# Create an instance of the Support Vector Classifier\n",
    "svm_model = SVC(random_state=42)\n",
    "\n",
    "# Train the model on the training data\n",
    "svm_model.fit(X_train, y_train)\n",
    "\n",
    "# Evaluate the Model\n",
    "y_pred_svm = svm_model.predict(X_test)\n",
    "\n",
    "# Store the accuracy in a variable\n",
    "from sklearn.metrics import accuracy_score, classification_report\n",
    "accuracy_svm = accuracy_score(y_test, y_pred_svm) * 100  # Accuracy stored in a variable\n",
    "\n",
    "# Print Accuracy and Classification Report\n",
    "print(f\"Accuracy (SVM): {accuracy_svm:.2f}%\")\n",
    "print(f\"Classification Report (SVM):\\n{classification_report(y_test, y_pred_svm)}\")\n"
   ]
  },
  {
   "cell_type": "code",
   "execution_count": 59,
   "id": "b06bf372-0434-425c-8791-3d42ff89ac4a",
   "metadata": {},
   "outputs": [
    {
     "data": {
      "image/png": "[encoded data removed]",
      "text/plain": [
       "<Figure size 1000x600 with 1 Axes>"
      ]
     },
     "metadata": {},
     "output_type": "display_data"
    }
   ],
   "source": [
    "import matplotlib.pyplot as plt\n",
    "import numpy as np  # Ensure you import numpy\n",
    "\n",
    "# Model names and accuracies (ensure that the accuracy values are correctly calculated)\n",
    "models = ['Random Forest', 'Logistic Regression', 'SVM']\n",
    "accuracies = [accuracy_rf, accuracy_log_reg, accuracy_svm]  # Check that these are defined and correct\n",
    "best_model_index = np.argmax(accuracies)\n",
    "\n",
    "# Set colors: dark blue for the best model, light blue for others\n",
    "colors = ['lightblue'] * len(models)\n",
    "colors[best_model_index] = 'darkblue'  # Highlight the best model\n",
    "\n",
    "# Create a bar plot to compare accuracies\n",
    "plt.figure(figsize=(10, 6))\n",
    "bars = plt.bar(models, accuracies, color=colors)\n",
    "\n",
    "# Adding labels and title\n",
    "plt.xlabel('Models', fontsize=14)\n",
    "plt.ylabel('Accuracy (%)', fontsize=14)\n",
    "plt.title('Model Comparison - Accuracy', fontsize=16)\n",
    "\n",
    "# Adding the accuracy values on top of the bars\n",
    "for bar in bars:\n",
    "    yval = bar.get_height()\n",
    "    plt.text(bar.get_x() + bar.get_width()/2, yval + 0.5, f'{yval:.2f}%', ha='center', va='bottom', fontsize=12)\n",
    "\n",
    "# Set the y-axis limits to cover your range of accuracies\n",
    "plt.ylim(0, max(accuracies) + 5)  # Make sure there is some space above the highest bar for the text\n",
    "plt.show()\n"
   ]
  },
  {
   "cell_type": "code",
   "execution_count": null,
   "id": "f2dc4572-7b09-4e4b-b9d6-fe8d02cf2951",
   "metadata": {},
   "outputs": [],
   "source": []
  }
 ],
 "metadata": {
  "kernelspec": {
   "display_name": "Python 3 (ipykernel)",
   "language": "python",
   "name": "python3"
  },
  "language_info": {
   "codemirror_mode": {
    "name": "ipython",
    "version": 3
   },
   "file_extension": ".py",
   "mimetype": "text/x-python",
   "name": "python",
   "nbconvert_exporter": "python",
   "pygments_lexer": "ipython3",
   "version": "3.12.1"
  }
 },
 "nbformat": 4,
 "nbformat_minor": 5
}
